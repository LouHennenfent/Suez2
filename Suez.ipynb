{
  "nbformat": 4,
  "nbformat_minor": 0,
  "metadata": {
    "colab": {
      "name": "Suez.ipynb",
      "provenance": [],
      "authorship_tag": "ABX9TyOgIOfo8cSJyXQ0GJlGK9Uo",
      "include_colab_link": true
    },
    "kernelspec": {
      "name": "python3",
      "display_name": "Python 3"
    },
    "language_info": {
      "name": "python"
    }
  },
  "cells": [
    {
      "cell_type": "markdown",
      "metadata": {
        "id": "view-in-github",
        "colab_type": "text"
      },
      "source": [
        "<a href=\"https://colab.research.google.com/github/LouHent/Suez2/blob/main/Suez.ipynb\" target=\"_parent\"><img src=\"https://colab.research.google.com/assets/colab-badge.svg\" alt=\"Open In Colab\"/></a>"
      ]
    },
    {
      "cell_type": "code",
      "execution_count": null,
      "metadata": {
        "id": "j9XttJZDO4XY"
      },
      "outputs": [],
      "source": [
        "pip install -q dash==1.19.0"
      ]
    },
    {
      "cell_type": "code",
      "source": [
        "pip install -q jupyter_dash==0.3.0"
      ],
      "metadata": {
        "colab": {
          "base_uri": "https://localhost:8080/"
        },
        "id": "D17L4tpERduq",
        "outputId": "83528bb0-8f4d-40ba-fc56-204a23db9141"
      },
      "execution_count": null,
      "outputs": [
        {
          "output_type": "stream",
          "name": "stdout",
          "text": [
            "\u001b[?25l\r\u001b[K     |██████▊                         | 10 kB 24.2 MB/s eta 0:00:01\r\u001b[K     |█████████████▍                  | 20 kB 29.1 MB/s eta 0:00:01\r\u001b[K     |████████████████████            | 30 kB 15.4 MB/s eta 0:00:01\r\u001b[K     |██████████████████████████▊     | 40 kB 11.6 MB/s eta 0:00:01\r\u001b[K     |████████████████████████████████| 49 kB 2.7 MB/s \n",
            "\u001b[?25h  Building wheel for retrying (setup.py) ... \u001b[?25l\u001b[?25hdone\n"
          ]
        }
      ]
    },
    {
      "cell_type": "code",
      "source": [
        "pip install -q dash-cytoscape"
      ],
      "metadata": {
        "colab": {
          "base_uri": "https://localhost:8080/"
        },
        "id": "w8kuSvhVS1iH",
        "outputId": "020afb95-6648-4fed-cc09-f8c41d56e9d4"
      },
      "execution_count": null,
      "outputs": [
        {
          "output_type": "stream",
          "name": "stdout",
          "text": [
            "\u001b[?25l\r\u001b[K     |                                | 10 kB 24.4 MB/s eta 0:00:01\r\u001b[K     |▏                               | 20 kB 27.6 MB/s eta 0:00:01\r\u001b[K     |▎                               | 30 kB 17.8 MB/s eta 0:00:01\r\u001b[K     |▍                               | 40 kB 12.7 MB/s eta 0:00:01\r\u001b[K     |▌                               | 51 kB 5.9 MB/s eta 0:00:01\r\u001b[K     |▌                               | 61 kB 6.9 MB/s eta 0:00:01\r\u001b[K     |▋                               | 71 kB 7.8 MB/s eta 0:00:01\r\u001b[K     |▊                               | 81 kB 6.4 MB/s eta 0:00:01\r\u001b[K     |▉                               | 92 kB 7.1 MB/s eta 0:00:01\r\u001b[K     |█                               | 102 kB 7.7 MB/s eta 0:00:01\r\u001b[K     |█                               | 112 kB 7.7 MB/s eta 0:00:01\r\u001b[K     |█                               | 122 kB 7.7 MB/s eta 0:00:01\r\u001b[K     |█▏                              | 133 kB 7.7 MB/s eta 0:00:01\r\u001b[K     |█▎                              | 143 kB 7.7 MB/s eta 0:00:01\r\u001b[K     |█▍                              | 153 kB 7.7 MB/s eta 0:00:01\r\u001b[K     |█▌                              | 163 kB 7.7 MB/s eta 0:00:01\r\u001b[K     |█▌                              | 174 kB 7.7 MB/s eta 0:00:01\r\u001b[K     |█▋                              | 184 kB 7.7 MB/s eta 0:00:01\r\u001b[K     |█▊                              | 194 kB 7.7 MB/s eta 0:00:01\r\u001b[K     |█▉                              | 204 kB 7.7 MB/s eta 0:00:01\r\u001b[K     |██                              | 215 kB 7.7 MB/s eta 0:00:01\r\u001b[K     |██                              | 225 kB 7.7 MB/s eta 0:00:01\r\u001b[K     |██                              | 235 kB 7.7 MB/s eta 0:00:01\r\u001b[K     |██▏                             | 245 kB 7.7 MB/s eta 0:00:01\r\u001b[K     |██▎                             | 256 kB 7.7 MB/s eta 0:00:01\r\u001b[K     |██▍                             | 266 kB 7.7 MB/s eta 0:00:01\r\u001b[K     |██▌                             | 276 kB 7.7 MB/s eta 0:00:01\r\u001b[K     |██▌                             | 286 kB 7.7 MB/s eta 0:00:01\r\u001b[K     |██▋                             | 296 kB 7.7 MB/s eta 0:00:01\r\u001b[K     |██▊                             | 307 kB 7.7 MB/s eta 0:00:01\r\u001b[K     |██▉                             | 317 kB 7.7 MB/s eta 0:00:01\r\u001b[K     |███                             | 327 kB 7.7 MB/s eta 0:00:01\r\u001b[K     |███                             | 337 kB 7.7 MB/s eta 0:00:01\r\u001b[K     |███                             | 348 kB 7.7 MB/s eta 0:00:01\r\u001b[K     |███▏                            | 358 kB 7.7 MB/s eta 0:00:01\r\u001b[K     |███▎                            | 368 kB 7.7 MB/s eta 0:00:01\r\u001b[K     |███▍                            | 378 kB 7.7 MB/s eta 0:00:01\r\u001b[K     |███▌                            | 389 kB 7.7 MB/s eta 0:00:01\r\u001b[K     |███▌                            | 399 kB 7.7 MB/s eta 0:00:01\r\u001b[K     |███▋                            | 409 kB 7.7 MB/s eta 0:00:01\r\u001b[K     |███▊                            | 419 kB 7.7 MB/s eta 0:00:01\r\u001b[K     |███▉                            | 430 kB 7.7 MB/s eta 0:00:01\r\u001b[K     |████                            | 440 kB 7.7 MB/s eta 0:00:01\r\u001b[K     |████                            | 450 kB 7.7 MB/s eta 0:00:01\r\u001b[K     |████                            | 460 kB 7.7 MB/s eta 0:00:01\r\u001b[K     |████▏                           | 471 kB 7.7 MB/s eta 0:00:01\r\u001b[K     |████▎                           | 481 kB 7.7 MB/s eta 0:00:01\r\u001b[K     |████▍                           | 491 kB 7.7 MB/s eta 0:00:01\r\u001b[K     |████▍                           | 501 kB 7.7 MB/s eta 0:00:01\r\u001b[K     |████▌                           | 512 kB 7.7 MB/s eta 0:00:01\r\u001b[K     |████▋                           | 522 kB 7.7 MB/s eta 0:00:01\r\u001b[K     |████▊                           | 532 kB 7.7 MB/s eta 0:00:01\r\u001b[K     |████▉                           | 542 kB 7.7 MB/s eta 0:00:01\r\u001b[K     |█████                           | 552 kB 7.7 MB/s eta 0:00:01\r\u001b[K     |█████                           | 563 kB 7.7 MB/s eta 0:00:01\r\u001b[K     |█████                           | 573 kB 7.7 MB/s eta 0:00:01\r\u001b[K     |█████▏                          | 583 kB 7.7 MB/s eta 0:00:01\r\u001b[K     |█████▎                          | 593 kB 7.7 MB/s eta 0:00:01\r\u001b[K     |█████▍                          | 604 kB 7.7 MB/s eta 0:00:01\r\u001b[K     |█████▍                          | 614 kB 7.7 MB/s eta 0:00:01\r\u001b[K     |█████▌                          | 624 kB 7.7 MB/s eta 0:00:01\r\u001b[K     |█████▋                          | 634 kB 7.7 MB/s eta 0:00:01\r\u001b[K     |█████▊                          | 645 kB 7.7 MB/s eta 0:00:01\r\u001b[K     |█████▉                          | 655 kB 7.7 MB/s eta 0:00:01\r\u001b[K     |██████                          | 665 kB 7.7 MB/s eta 0:00:01\r\u001b[K     |██████                          | 675 kB 7.7 MB/s eta 0:00:01\r\u001b[K     |██████                          | 686 kB 7.7 MB/s eta 0:00:01\r\u001b[K     |██████▏                         | 696 kB 7.7 MB/s eta 0:00:01\r\u001b[K     |██████▎                         | 706 kB 7.7 MB/s eta 0:00:01\r\u001b[K     |██████▍                         | 716 kB 7.7 MB/s eta 0:00:01\r\u001b[K     |██████▍                         | 727 kB 7.7 MB/s eta 0:00:01\r\u001b[K     |██████▌                         | 737 kB 7.7 MB/s eta 0:00:01\r\u001b[K     |██████▋                         | 747 kB 7.7 MB/s eta 0:00:01\r\u001b[K     |██████▊                         | 757 kB 7.7 MB/s eta 0:00:01\r\u001b[K     |██████▉                         | 768 kB 7.7 MB/s eta 0:00:01\r\u001b[K     |███████                         | 778 kB 7.7 MB/s eta 0:00:01\r\u001b[K     |███████                         | 788 kB 7.7 MB/s eta 0:00:01\r\u001b[K     |███████                         | 798 kB 7.7 MB/s eta 0:00:01\r\u001b[K     |███████▏                        | 808 kB 7.7 MB/s eta 0:00:01\r\u001b[K     |███████▎                        | 819 kB 7.7 MB/s eta 0:00:01\r\u001b[K     |███████▍                        | 829 kB 7.7 MB/s eta 0:00:01\r\u001b[K     |███████▍                        | 839 kB 7.7 MB/s eta 0:00:01\r\u001b[K     |███████▌                        | 849 kB 7.7 MB/s eta 0:00:01\r\u001b[K     |███████▋                        | 860 kB 7.7 MB/s eta 0:00:01\r\u001b[K     |███████▊                        | 870 kB 7.7 MB/s eta 0:00:01\r\u001b[K     |███████▉                        | 880 kB 7.7 MB/s eta 0:00:01\r\u001b[K     |███████▉                        | 890 kB 7.7 MB/s eta 0:00:01\r\u001b[K     |████████                        | 901 kB 7.7 MB/s eta 0:00:01\r\u001b[K     |████████                        | 911 kB 7.7 MB/s eta 0:00:01\r\u001b[K     |████████▏                       | 921 kB 7.7 MB/s eta 0:00:01\r\u001b[K     |████████▎                       | 931 kB 7.7 MB/s eta 0:00:01\r\u001b[K     |████████▍                       | 942 kB 7.7 MB/s eta 0:00:01\r\u001b[K     |████████▍                       | 952 kB 7.7 MB/s eta 0:00:01\r\u001b[K     |████████▌                       | 962 kB 7.7 MB/s eta 0:00:01\r\u001b[K     |████████▋                       | 972 kB 7.7 MB/s eta 0:00:01\r\u001b[K     |████████▊                       | 983 kB 7.7 MB/s eta 0:00:01\r\u001b[K     |████████▉                       | 993 kB 7.7 MB/s eta 0:00:01\r\u001b[K     |████████▉                       | 1.0 MB 7.7 MB/s eta 0:00:01\r\u001b[K     |█████████                       | 1.0 MB 7.7 MB/s eta 0:00:01\r\u001b[K     |█████████                       | 1.0 MB 7.7 MB/s eta 0:00:01\r\u001b[K     |█████████▏                      | 1.0 MB 7.7 MB/s eta 0:00:01\r\u001b[K     |█████████▎                      | 1.0 MB 7.7 MB/s eta 0:00:01\r\u001b[K     |█████████▍                      | 1.1 MB 7.7 MB/s eta 0:00:01\r\u001b[K     |█████████▍                      | 1.1 MB 7.7 MB/s eta 0:00:01\r\u001b[K     |█████████▌                      | 1.1 MB 7.7 MB/s eta 0:00:01\r\u001b[K     |█████████▋                      | 1.1 MB 7.7 MB/s eta 0:00:01\r\u001b[K     |█████████▊                      | 1.1 MB 7.7 MB/s eta 0:00:01\r\u001b[K     |█████████▉                      | 1.1 MB 7.7 MB/s eta 0:00:01\r\u001b[K     |█████████▉                      | 1.1 MB 7.7 MB/s eta 0:00:01\r\u001b[K     |██████████                      | 1.1 MB 7.7 MB/s eta 0:00:01\r\u001b[K     |██████████                      | 1.1 MB 7.7 MB/s eta 0:00:01\r\u001b[K     |██████████▏                     | 1.1 MB 7.7 MB/s eta 0:00:01\r\u001b[K     |██████████▎                     | 1.2 MB 7.7 MB/s eta 0:00:01\r\u001b[K     |██████████▍                     | 1.2 MB 7.7 MB/s eta 0:00:01\r\u001b[K     |██████████▍                     | 1.2 MB 7.7 MB/s eta 0:00:01\r\u001b[K     |██████████▌                     | 1.2 MB 7.7 MB/s eta 0:00:01\r\u001b[K     |██████████▋                     | 1.2 MB 7.7 MB/s eta 0:00:01\r\u001b[K     |██████████▊                     | 1.2 MB 7.7 MB/s eta 0:00:01\r\u001b[K     |██████████▉                     | 1.2 MB 7.7 MB/s eta 0:00:01\r\u001b[K     |██████████▉                     | 1.2 MB 7.7 MB/s eta 0:00:01\r\u001b[K     |███████████                     | 1.2 MB 7.7 MB/s eta 0:00:01\r\u001b[K     |███████████                     | 1.2 MB 7.7 MB/s eta 0:00:01\r\u001b[K     |███████████▏                    | 1.3 MB 7.7 MB/s eta 0:00:01\r\u001b[K     |███████████▎                    | 1.3 MB 7.7 MB/s eta 0:00:01\r\u001b[K     |███████████▎                    | 1.3 MB 7.7 MB/s eta 0:00:01\r\u001b[K     |███████████▍                    | 1.3 MB 7.7 MB/s eta 0:00:01\r\u001b[K     |███████████▌                    | 1.3 MB 7.7 MB/s eta 0:00:01\r\u001b[K     |███████████▋                    | 1.3 MB 7.7 MB/s eta 0:00:01\r\u001b[K     |███████████▊                    | 1.3 MB 7.7 MB/s eta 0:00:01\r\u001b[K     |███████████▉                    | 1.3 MB 7.7 MB/s eta 0:00:01\r\u001b[K     |███████████▉                    | 1.3 MB 7.7 MB/s eta 0:00:01\r\u001b[K     |████████████                    | 1.4 MB 7.7 MB/s eta 0:00:01\r\u001b[K     |████████████                    | 1.4 MB 7.7 MB/s eta 0:00:01\r\u001b[K     |████████████▏                   | 1.4 MB 7.7 MB/s eta 0:00:01\r\u001b[K     |████████████▎                   | 1.4 MB 7.7 MB/s eta 0:00:01\r\u001b[K     |████████████▎                   | 1.4 MB 7.7 MB/s eta 0:00:01\r\u001b[K     |████████████▍                   | 1.4 MB 7.7 MB/s eta 0:00:01\r\u001b[K     |████████████▌                   | 1.4 MB 7.7 MB/s eta 0:00:01\r\u001b[K     |████████████▋                   | 1.4 MB 7.7 MB/s eta 0:00:01\r\u001b[K     |████████████▊                   | 1.4 MB 7.7 MB/s eta 0:00:01\r\u001b[K     |████████████▉                   | 1.4 MB 7.7 MB/s eta 0:00:01\r\u001b[K     |████████████▉                   | 1.5 MB 7.7 MB/s eta 0:00:01\r\u001b[K     |█████████████                   | 1.5 MB 7.7 MB/s eta 0:00:01\r\u001b[K     |█████████████                   | 1.5 MB 7.7 MB/s eta 0:00:01\r\u001b[K     |█████████████▏                  | 1.5 MB 7.7 MB/s eta 0:00:01\r\u001b[K     |█████████████▎                  | 1.5 MB 7.7 MB/s eta 0:00:01\r\u001b[K     |█████████████▎                  | 1.5 MB 7.7 MB/s eta 0:00:01\r\u001b[K     |█████████████▍                  | 1.5 MB 7.7 MB/s eta 0:00:01\r\u001b[K     |█████████████▌                  | 1.5 MB 7.7 MB/s eta 0:00:01\r\u001b[K     |█████████████▋                  | 1.5 MB 7.7 MB/s eta 0:00:01\r\u001b[K     |█████████████▊                  | 1.5 MB 7.7 MB/s eta 0:00:01\r\u001b[K     |█████████████▉                  | 1.6 MB 7.7 MB/s eta 0:00:01\r\u001b[K     |█████████████▉                  | 1.6 MB 7.7 MB/s eta 0:00:01\r\u001b[K     |██████████████                  | 1.6 MB 7.7 MB/s eta 0:00:01\r\u001b[K     |██████████████                  | 1.6 MB 7.7 MB/s eta 0:00:01\r\u001b[K     |██████████████▏                 | 1.6 MB 7.7 MB/s eta 0:00:01\r\u001b[K     |██████████████▎                 | 1.6 MB 7.7 MB/s eta 0:00:01\r\u001b[K     |██████████████▎                 | 1.6 MB 7.7 MB/s eta 0:00:01\r\u001b[K     |██████████████▍                 | 1.6 MB 7.7 MB/s eta 0:00:01\r\u001b[K     |██████████████▌                 | 1.6 MB 7.7 MB/s eta 0:00:01\r\u001b[K     |██████████████▋                 | 1.6 MB 7.7 MB/s eta 0:00:01\r\u001b[K     |██████████████▊                 | 1.7 MB 7.7 MB/s eta 0:00:01\r\u001b[K     |██████████████▊                 | 1.7 MB 7.7 MB/s eta 0:00:01\r\u001b[K     |██████████████▉                 | 1.7 MB 7.7 MB/s eta 0:00:01\r\u001b[K     |███████████████                 | 1.7 MB 7.7 MB/s eta 0:00:01\r\u001b[K     |███████████████                 | 1.7 MB 7.7 MB/s eta 0:00:01\r\u001b[K     |███████████████▏                | 1.7 MB 7.7 MB/s eta 0:00:01\r\u001b[K     |███████████████▎                | 1.7 MB 7.7 MB/s eta 0:00:01\r\u001b[K     |███████████████▎                | 1.7 MB 7.7 MB/s eta 0:00:01\r\u001b[K     |███████████████▍                | 1.7 MB 7.7 MB/s eta 0:00:01\r\u001b[K     |███████████████▌                | 1.8 MB 7.7 MB/s eta 0:00:01\r\u001b[K     |███████████████▋                | 1.8 MB 7.7 MB/s eta 0:00:01\r\u001b[K     |███████████████▊                | 1.8 MB 7.7 MB/s eta 0:00:01\r\u001b[K     |███████████████▊                | 1.8 MB 7.7 MB/s eta 0:00:01\r\u001b[K     |███████████████▉                | 1.8 MB 7.7 MB/s eta 0:00:01\r\u001b[K     |████████████████                | 1.8 MB 7.7 MB/s eta 0:00:01\r\u001b[K     |████████████████                | 1.8 MB 7.7 MB/s eta 0:00:01\r\u001b[K     |████████████████▏               | 1.8 MB 7.7 MB/s eta 0:00:01\r\u001b[K     |████████████████▎               | 1.8 MB 7.7 MB/s eta 0:00:01\r\u001b[K     |████████████████▎               | 1.8 MB 7.7 MB/s eta 0:00:01\r\u001b[K     |████████████████▍               | 1.9 MB 7.7 MB/s eta 0:00:01\r\u001b[K     |████████████████▌               | 1.9 MB 7.7 MB/s eta 0:00:01\r\u001b[K     |████████████████▋               | 1.9 MB 7.7 MB/s eta 0:00:01\r\u001b[K     |████████████████▊               | 1.9 MB 7.7 MB/s eta 0:00:01\r\u001b[K     |████████████████▊               | 1.9 MB 7.7 MB/s eta 0:00:01\r\u001b[K     |████████████████▉               | 1.9 MB 7.7 MB/s eta 0:00:01\r\u001b[K     |█████████████████               | 1.9 MB 7.7 MB/s eta 0:00:01\r\u001b[K     |█████████████████               | 1.9 MB 7.7 MB/s eta 0:00:01\r\u001b[K     |█████████████████▏              | 1.9 MB 7.7 MB/s eta 0:00:01\r\u001b[K     |█████████████████▎              | 1.9 MB 7.7 MB/s eta 0:00:01\r\u001b[K     |█████████████████▎              | 2.0 MB 7.7 MB/s eta 0:00:01\r\u001b[K     |█████████████████▍              | 2.0 MB 7.7 MB/s eta 0:00:01\r\u001b[K     |█████████████████▌              | 2.0 MB 7.7 MB/s eta 0:00:01\r\u001b[K     |█████████████████▋              | 2.0 MB 7.7 MB/s eta 0:00:01\r\u001b[K     |█████████████████▊              | 2.0 MB 7.7 MB/s eta 0:00:01\r\u001b[K     |█████████████████▊              | 2.0 MB 7.7 MB/s eta 0:00:01\r\u001b[K     |█████████████████▉              | 2.0 MB 7.7 MB/s eta 0:00:01\r\u001b[K     |██████████████████              | 2.0 MB 7.7 MB/s eta 0:00:01\r\u001b[K     |██████████████████              | 2.0 MB 7.7 MB/s eta 0:00:01\r\u001b[K     |██████████████████▏             | 2.0 MB 7.7 MB/s eta 0:00:01\r\u001b[K     |██████████████████▏             | 2.1 MB 7.7 MB/s eta 0:00:01\r\u001b[K     |██████████████████▎             | 2.1 MB 7.7 MB/s eta 0:00:01\r\u001b[K     |██████████████████▍             | 2.1 MB 7.7 MB/s eta 0:00:01\r\u001b[K     |██████████████████▌             | 2.1 MB 7.7 MB/s eta 0:00:01\r\u001b[K     |██████████████████▋             | 2.1 MB 7.7 MB/s eta 0:00:01\r\u001b[K     |██████████████████▊             | 2.1 MB 7.7 MB/s eta 0:00:01\r\u001b[K     |██████████████████▊             | 2.1 MB 7.7 MB/s eta 0:00:01\r\u001b[K     |██████████████████▉             | 2.1 MB 7.7 MB/s eta 0:00:01\r\u001b[K     |███████████████████             | 2.1 MB 7.7 MB/s eta 0:00:01\r\u001b[K     |███████████████████             | 2.2 MB 7.7 MB/s eta 0:00:01\r\u001b[K     |███████████████████▏            | 2.2 MB 7.7 MB/s eta 0:00:01\r\u001b[K     |███████████████████▏            | 2.2 MB 7.7 MB/s eta 0:00:01\r\u001b[K     |███████████████████▎            | 2.2 MB 7.7 MB/s eta 0:00:01\r\u001b[K     |███████████████████▍            | 2.2 MB 7.7 MB/s eta 0:00:01\r\u001b[K     |███████████████████▌            | 2.2 MB 7.7 MB/s eta 0:00:01\r\u001b[K     |███████████████████▋            | 2.2 MB 7.7 MB/s eta 0:00:01\r\u001b[K     |███████████████████▊            | 2.2 MB 7.7 MB/s eta 0:00:01\r\u001b[K     |███████████████████▊            | 2.2 MB 7.7 MB/s eta 0:00:01\r\u001b[K     |███████████████████▉            | 2.2 MB 7.7 MB/s eta 0:00:01\r\u001b[K     |████████████████████            | 2.3 MB 7.7 MB/s eta 0:00:01\r\u001b[K     |████████████████████            | 2.3 MB 7.7 MB/s eta 0:00:01\r\u001b[K     |████████████████████▏           | 2.3 MB 7.7 MB/s eta 0:00:01\r\u001b[K     |████████████████████▏           | 2.3 MB 7.7 MB/s eta 0:00:01\r\u001b[K     |████████████████████▎           | 2.3 MB 7.7 MB/s eta 0:00:01\r\u001b[K     |████████████████████▍           | 2.3 MB 7.7 MB/s eta 0:00:01\r\u001b[K     |████████████████████▌           | 2.3 MB 7.7 MB/s eta 0:00:01\r\u001b[K     |████████████████████▋           | 2.3 MB 7.7 MB/s eta 0:00:01\r\u001b[K     |████████████████████▊           | 2.3 MB 7.7 MB/s eta 0:00:01\r\u001b[K     |████████████████████▊           | 2.3 MB 7.7 MB/s eta 0:00:01\r\u001b[K     |████████████████████▉           | 2.4 MB 7.7 MB/s eta 0:00:01\r\u001b[K     |█████████████████████           | 2.4 MB 7.7 MB/s eta 0:00:01\r\u001b[K     |█████████████████████           | 2.4 MB 7.7 MB/s eta 0:00:01\r\u001b[K     |█████████████████████▏          | 2.4 MB 7.7 MB/s eta 0:00:01\r\u001b[K     |█████████████████████▏          | 2.4 MB 7.7 MB/s eta 0:00:01\r\u001b[K     |█████████████████████▎          | 2.4 MB 7.7 MB/s eta 0:00:01\r\u001b[K     |█████████████████████▍          | 2.4 MB 7.7 MB/s eta 0:00:01\r\u001b[K     |█████████████████████▌          | 2.4 MB 7.7 MB/s eta 0:00:01\r\u001b[K     |█████████████████████▋          | 2.4 MB 7.7 MB/s eta 0:00:01\r\u001b[K     |█████████████████████▋          | 2.4 MB 7.7 MB/s eta 0:00:01\r\u001b[K     |█████████████████████▊          | 2.5 MB 7.7 MB/s eta 0:00:01\r\u001b[K     |█████████████████████▉          | 2.5 MB 7.7 MB/s eta 0:00:01\r\u001b[K     |██████████████████████          | 2.5 MB 7.7 MB/s eta 0:00:01\r\u001b[K     |██████████████████████          | 2.5 MB 7.7 MB/s eta 0:00:01\r\u001b[K     |██████████████████████▏         | 2.5 MB 7.7 MB/s eta 0:00:01\r\u001b[K     |██████████████████████▏         | 2.5 MB 7.7 MB/s eta 0:00:01\r\u001b[K     |██████████████████████▎         | 2.5 MB 7.7 MB/s eta 0:00:01\r\u001b[K     |██████████████████████▍         | 2.5 MB 7.7 MB/s eta 0:00:01\r\u001b[K     |██████████████████████▌         | 2.5 MB 7.7 MB/s eta 0:00:01\r\u001b[K     |██████████████████████▋         | 2.5 MB 7.7 MB/s eta 0:00:01\r\u001b[K     |██████████████████████▋         | 2.6 MB 7.7 MB/s eta 0:00:01\r\u001b[K     |██████████████████████▊         | 2.6 MB 7.7 MB/s eta 0:00:01\r\u001b[K     |██████████████████████▉         | 2.6 MB 7.7 MB/s eta 0:00:01\r\u001b[K     |███████████████████████         | 2.6 MB 7.7 MB/s eta 0:00:01\r\u001b[K     |███████████████████████         | 2.6 MB 7.7 MB/s eta 0:00:01\r\u001b[K     |███████████████████████▏        | 2.6 MB 7.7 MB/s eta 0:00:01\r\u001b[K     |███████████████████████▏        | 2.6 MB 7.7 MB/s eta 0:00:01\r\u001b[K     |███████████████████████▎        | 2.6 MB 7.7 MB/s eta 0:00:01\r\u001b[K     |███████████████████████▍        | 2.6 MB 7.7 MB/s eta 0:00:01\r\u001b[K     |███████████████████████▌        | 2.7 MB 7.7 MB/s eta 0:00:01\r\u001b[K     |███████████████████████▋        | 2.7 MB 7.7 MB/s eta 0:00:01\r\u001b[K     |███████████████████████▋        | 2.7 MB 7.7 MB/s eta 0:00:01\r\u001b[K     |███████████████████████▊        | 2.7 MB 7.7 MB/s eta 0:00:01\r\u001b[K     |███████████████████████▉        | 2.7 MB 7.7 MB/s eta 0:00:01\r\u001b[K     |████████████████████████        | 2.7 MB 7.7 MB/s eta 0:00:01\r\u001b[K     |████████████████████████        | 2.7 MB 7.7 MB/s eta 0:00:01\r\u001b[K     |████████████████████████▏       | 2.7 MB 7.7 MB/s eta 0:00:01\r\u001b[K     |████████████████████████▏       | 2.7 MB 7.7 MB/s eta 0:00:01\r\u001b[K     |████████████████████████▎       | 2.7 MB 7.7 MB/s eta 0:00:01\r\u001b[K     |████████████████████████▍       | 2.8 MB 7.7 MB/s eta 0:00:01\r\u001b[K     |████████████████████████▌       | 2.8 MB 7.7 MB/s eta 0:00:01\r\u001b[K     |████████████████████████▋       | 2.8 MB 7.7 MB/s eta 0:00:01\r\u001b[K     |████████████████████████▋       | 2.8 MB 7.7 MB/s eta 0:00:01\r\u001b[K     |████████████████████████▊       | 2.8 MB 7.7 MB/s eta 0:00:01\r\u001b[K     |████████████████████████▉       | 2.8 MB 7.7 MB/s eta 0:00:01\r\u001b[K     |█████████████████████████       | 2.8 MB 7.7 MB/s eta 0:00:01\r\u001b[K     |█████████████████████████       | 2.8 MB 7.7 MB/s eta 0:00:01\r\u001b[K     |█████████████████████████▏      | 2.8 MB 7.7 MB/s eta 0:00:01\r\u001b[K     |█████████████████████████▏      | 2.8 MB 7.7 MB/s eta 0:00:01\r\u001b[K     |█████████████████████████▎      | 2.9 MB 7.7 MB/s eta 0:00:01\r\u001b[K     |█████████████████████████▍      | 2.9 MB 7.7 MB/s eta 0:00:01\r\u001b[K     |█████████████████████████▌      | 2.9 MB 7.7 MB/s eta 0:00:01\r\u001b[K     |█████████████████████████▋      | 2.9 MB 7.7 MB/s eta 0:00:01\r\u001b[K     |█████████████████████████▋      | 2.9 MB 7.7 MB/s eta 0:00:01\r\u001b[K     |█████████████████████████▊      | 2.9 MB 7.7 MB/s eta 0:00:01\r\u001b[K     |█████████████████████████▉      | 2.9 MB 7.7 MB/s eta 0:00:01\r\u001b[K     |██████████████████████████      | 2.9 MB 7.7 MB/s eta 0:00:01\r\u001b[K     |██████████████████████████      | 2.9 MB 7.7 MB/s eta 0:00:01\r\u001b[K     |██████████████████████████      | 2.9 MB 7.7 MB/s eta 0:00:01\r\u001b[K     |██████████████████████████▏     | 3.0 MB 7.7 MB/s eta 0:00:01\r\u001b[K     |██████████████████████████▎     | 3.0 MB 7.7 MB/s eta 0:00:01\r\u001b[K     |██████████████████████████▍     | 3.0 MB 7.7 MB/s eta 0:00:01\r\u001b[K     |██████████████████████████▌     | 3.0 MB 7.7 MB/s eta 0:00:01\r\u001b[K     |██████████████████████████▋     | 3.0 MB 7.7 MB/s eta 0:00:01\r\u001b[K     |██████████████████████████▋     | 3.0 MB 7.7 MB/s eta 0:00:01\r\u001b[K     |██████████████████████████▊     | 3.0 MB 7.7 MB/s eta 0:00:01\r\u001b[K     |██████████████████████████▉     | 3.0 MB 7.7 MB/s eta 0:00:01\r\u001b[K     |███████████████████████████     | 3.0 MB 7.7 MB/s eta 0:00:01\r\u001b[K     |███████████████████████████     | 3.1 MB 7.7 MB/s eta 0:00:01\r\u001b[K     |███████████████████████████     | 3.1 MB 7.7 MB/s eta 0:00:01\r\u001b[K     |███████████████████████████▏    | 3.1 MB 7.7 MB/s eta 0:00:01\r\u001b[K     |███████████████████████████▎    | 3.1 MB 7.7 MB/s eta 0:00:01\r\u001b[K     |███████████████████████████▍    | 3.1 MB 7.7 MB/s eta 0:00:01\r\u001b[K     |███████████████████████████▌    | 3.1 MB 7.7 MB/s eta 0:00:01\r\u001b[K     |███████████████████████████▋    | 3.1 MB 7.7 MB/s eta 0:00:01\r\u001b[K     |███████████████████████████▋    | 3.1 MB 7.7 MB/s eta 0:00:01\r\u001b[K     |███████████████████████████▊    | 3.1 MB 7.7 MB/s eta 0:00:01\r\u001b[K     |███████████████████████████▉    | 3.1 MB 7.7 MB/s eta 0:00:01\r\u001b[K     |████████████████████████████    | 3.2 MB 7.7 MB/s eta 0:00:01\r\u001b[K     |████████████████████████████    | 3.2 MB 7.7 MB/s eta 0:00:01\r\u001b[K     |████████████████████████████    | 3.2 MB 7.7 MB/s eta 0:00:01\r\u001b[K     |████████████████████████████▏   | 3.2 MB 7.7 MB/s eta 0:00:01\r\u001b[K     |████████████████████████████▎   | 3.2 MB 7.7 MB/s eta 0:00:01\r\u001b[K     |████████████████████████████▍   | 3.2 MB 7.7 MB/s eta 0:00:01\r\u001b[K     |████████████████████████████▌   | 3.2 MB 7.7 MB/s eta 0:00:01\r\u001b[K     |████████████████████████████▋   | 3.2 MB 7.7 MB/s eta 0:00:01\r\u001b[K     |████████████████████████████▋   | 3.2 MB 7.7 MB/s eta 0:00:01\r\u001b[K     |████████████████████████████▊   | 3.2 MB 7.7 MB/s eta 0:00:01\r\u001b[K     |████████████████████████████▉   | 3.3 MB 7.7 MB/s eta 0:00:01\r\u001b[K     |█████████████████████████████   | 3.3 MB 7.7 MB/s eta 0:00:01\r\u001b[K     |█████████████████████████████   | 3.3 MB 7.7 MB/s eta 0:00:01\r\u001b[K     |█████████████████████████████   | 3.3 MB 7.7 MB/s eta 0:00:01\r\u001b[K     |█████████████████████████████▏  | 3.3 MB 7.7 MB/s eta 0:00:01\r\u001b[K     |█████████████████████████████▎  | 3.3 MB 7.7 MB/s eta 0:00:01\r\u001b[K     |█████████████████████████████▍  | 3.3 MB 7.7 MB/s eta 0:00:01\r\u001b[K     |█████████████████████████████▌  | 3.3 MB 7.7 MB/s eta 0:00:01\r\u001b[K     |█████████████████████████████▌  | 3.3 MB 7.7 MB/s eta 0:00:01\r\u001b[K     |█████████████████████████████▋  | 3.3 MB 7.7 MB/s eta 0:00:01\r\u001b[K     |█████████████████████████████▊  | 3.4 MB 7.7 MB/s eta 0:00:01\r\u001b[K     |█████████████████████████████▉  | 3.4 MB 7.7 MB/s eta 0:00:01\r\u001b[K     |██████████████████████████████  | 3.4 MB 7.7 MB/s eta 0:00:01\r\u001b[K     |██████████████████████████████  | 3.4 MB 7.7 MB/s eta 0:00:01\r\u001b[K     |██████████████████████████████  | 3.4 MB 7.7 MB/s eta 0:00:01\r\u001b[K     |██████████████████████████████▏ | 3.4 MB 7.7 MB/s eta 0:00:01\r\u001b[K     |██████████████████████████████▎ | 3.4 MB 7.7 MB/s eta 0:00:01\r\u001b[K     |██████████████████████████████▍ | 3.4 MB 7.7 MB/s eta 0:00:01\r\u001b[K     |██████████████████████████████▌ | 3.4 MB 7.7 MB/s eta 0:00:01\r\u001b[K     |██████████████████████████████▌ | 3.5 MB 7.7 MB/s eta 0:00:01\r\u001b[K     |██████████████████████████████▋ | 3.5 MB 7.7 MB/s eta 0:00:01\r\u001b[K     |██████████████████████████████▊ | 3.5 MB 7.7 MB/s eta 0:00:01\r\u001b[K     |██████████████████████████████▉ | 3.5 MB 7.7 MB/s eta 0:00:01\r\u001b[K     |███████████████████████████████ | 3.5 MB 7.7 MB/s eta 0:00:01\r\u001b[K     |███████████████████████████████ | 3.5 MB 7.7 MB/s eta 0:00:01\r\u001b[K     |███████████████████████████████ | 3.5 MB 7.7 MB/s eta 0:00:01\r\u001b[K     |███████████████████████████████▏| 3.5 MB 7.7 MB/s eta 0:00:01\r\u001b[K     |███████████████████████████████▎| 3.5 MB 7.7 MB/s eta 0:00:01\r\u001b[K     |███████████████████████████████▍| 3.5 MB 7.7 MB/s eta 0:00:01\r\u001b[K     |███████████████████████████████▌| 3.6 MB 7.7 MB/s eta 0:00:01\r\u001b[K     |███████████████████████████████▌| 3.6 MB 7.7 MB/s eta 0:00:01\r\u001b[K     |███████████████████████████████▋| 3.6 MB 7.7 MB/s eta 0:00:01\r\u001b[K     |███████████████████████████████▊| 3.6 MB 7.7 MB/s eta 0:00:01\r\u001b[K     |███████████████████████████████▉| 3.6 MB 7.7 MB/s eta 0:00:01\r\u001b[K     |████████████████████████████████| 3.6 MB 7.7 MB/s eta 0:00:01\r\u001b[K     |████████████████████████████████| 3.6 MB 7.7 MB/s \n",
            "\u001b[?25h"
          ]
        }
      ]
    },
    {
      "cell_type": "code",
      "source": [
        "from jupyter_dash import JupyterDash  # pip install dash\n",
        "import dash_cytoscape as cyto  # pip install dash-cytoscape==0.2.0 or higher\n",
        "import dash_html_components as html\n",
        "import dash_core_components as dcc\n",
        "from dash.dependencies import Output, Input\n",
        "import pandas as pd  # pip install pandas\n",
        "import plotly.express as px\n",
        "import numpy as np\n",
        "import math\n",
        "from dash import no_update"
      ],
      "metadata": {
        "id": "pFX-vgzGS_p8"
      },
      "execution_count": null,
      "outputs": []
    },
    {
      "cell_type": "markdown",
      "source": [
        "##Gerer les valeurs null dans les contrôles"
      ],
      "metadata": {
        "id": "CM17woO7Tw8I"
      }
    },
    {
      "cell_type": "markdown",
      "source": [
        "#Cables"
      ],
      "metadata": {
        "id": "O0y7U2TbT2Mw"
      }
    },
    {
      "cell_type": "code",
      "source": [
        "cable = pd.read_csv('C:/Users/louhe/OneDrive/Documents/louschool/Master2/Semestre4/Suez/donnees/1_controle/controle_cable.csv',sep=\";\")\n",
        "X = cable.iloc[:,:].values\n",
        "cable.info()\n",
        "cable = cable.fillna('NA')\n",
        "cable.to_csv('C:/Users/louhe/OneDrive/Documents/louschool/Master2/Semestre4/Suez/donnees/1_controle/controle_cable_ok.csv', sep=';', index=False)"
      ],
      "metadata": {
        "id": "K_BydGBcT_Go"
      },
      "execution_count": null,
      "outputs": []
    },
    {
      "cell_type": "markdown",
      "source": [
        "#ebp"
      ],
      "metadata": {
        "id": "g1QPTny6UB5G"
      }
    },
    {
      "cell_type": "code",
      "source": [
        "ebp = pd.read_csv('C:/Users/louhe/OneDrive/Documents/louschool/Master2/Semestre4/Suez/donnees/1_controle/controle_ebp.csv',sep=\";\")\n",
        "X = ebp.iloc[:,:].values\n",
        "ebp.info()\n",
        "ebp = ebp.fillna('NA')\n",
        "ebp.to_csv('C:/Users/louhe/OneDrive/Documents/louschool/Master2/Semestre4/Suez/donnees/1_controle/controle_ebp_ok.csv', sep=';', index=False)"
      ],
      "metadata": {
        "id": "TOVVO5wIUEBs"
      },
      "execution_count": null,
      "outputs": []
    },
    {
      "cell_type": "markdown",
      "source": [
        "#petch"
      ],
      "metadata": {
        "id": "5gtFk5T4UE-z"
      }
    },
    {
      "cell_type": "code",
      "source": [
        "petch = pd.read_csv('C:/Users/louhe/OneDrive/Documents/louschool/Master2/Semestre4/Suez/donnees/1_controle/controle_ptech.csv',sep=\";\")\n",
        "X = petch.iloc[:,:].values\n",
        "petch.info()\n",
        "petch = petch.fillna('NA')\n",
        "petch.to_csv('C:/Users/louhe/OneDrive/Documents/louschool/Master2/Semestre4/Suez/donnees/1_controle/controle_petch_ok.csv', sep=';', index=False)"
      ],
      "metadata": {
        "id": "vwsnqVDgUICQ"
      },
      "execution_count": null,
      "outputs": []
    },
    {
      "cell_type": "markdown",
      "source": [
        "##Importer les donnees "
      ],
      "metadata": {
        "id": "vrkayFBlUJgu"
      }
    },
    {
      "cell_type": "markdown",
      "source": [
        "#cables"
      ],
      "metadata": {
        "id": "yM3FKHCPUK7q"
      }
    },
    {
      "cell_type": "code",
      "source": [
        "cable_ctrl = pd.read_csv('C:/Users/louhe/OneDrive/Documents/louschool/Master2/Semestre4/Suez/donnees/1_controle/controle_cable_ok.csv', sep=';')\n",
        "cable_all = pd.read_csv('C:/Users/louhe/OneDrive/Documents/louschool/Master2/Semestre4/Suez/donnees/2_all/all_cable.csv', sep=';')"
      ],
      "metadata": {
        "id": "015CE4aUUMaG"
      },
      "execution_count": null,
      "outputs": []
    },
    {
      "cell_type": "markdown",
      "source": [
        "#ebp"
      ],
      "metadata": {
        "id": "Xa7R_ZdyUNis"
      }
    },
    {
      "cell_type": "code",
      "source": [
        "ebp_ctrl = pd.read_csv('C:/Users/louhe/OneDrive/Documents/louschool/Master2/Semestre4/Suez/donnees/1_controle/controle_ebp_ok.csv', sep=';')\n",
        "ebp_all = pd.read_csv('C:/Users/louhe/OneDrive/Documents/louschool/Master2/Semestre4/Suez/donnees/2_all/all_ebp.csv', sep=';')"
      ],
      "metadata": {
        "id": "xRZUGq8cUO0T"
      },
      "execution_count": null,
      "outputs": []
    },
    {
      "cell_type": "markdown",
      "source": [
        "#petch"
      ],
      "metadata": {
        "id": "GANaSIgdUPtY"
      }
    },
    {
      "cell_type": "code",
      "source": [
        "petch_ctrl = pd.read_csv('C:/Users/louhe/OneDrive/Documents/louschool/Master2/Semestre4/Suez/donnees/1_controle/controle_petch_ok.csv', sep=';')\n",
        "petch_all = pd.read_csv('C:/Users/louhe/OneDrive/Documents/louschool/Master2/Semestre4/Suez/donnees/2_all/all_petch.csv', sep=';')"
      ],
      "metadata": {
        "id": "pqNdFciiUQ--"
      },
      "execution_count": null,
      "outputs": []
    },
    {
      "cell_type": "markdown",
      "source": [
        "##Faire la jointure entre :"
      ],
      "metadata": {
        "id": "amNlCfdKUS2n"
      }
    },
    {
      "cell_type": "markdown",
      "source": [
        "#controles cables et tout les cables"
      ],
      "metadata": {
        "id": "Vc9FR6gwUUah"
      }
    },
    {
      "cell_type": "code",
      "source": [
        "cable_ctrl=cable_ctrl.loc[:,('code', 'cb_conf')]\n",
        "cable_merge_ctrl=cable_all.merge(cable_ctrl.rename({'code': 'cb_code'}, axis=1), left_on='cb_code', right_on='cb_code', how='left')"
      ],
      "metadata": {
        "id": "gztWuD1uUWO9"
      },
      "execution_count": null,
      "outputs": []
    },
    {
      "cell_type": "markdown",
      "source": [
        "#Remplacer les vides par des NA : cables"
      ],
      "metadata": {
        "id": "2cYDeoZhUXTK"
      }
    },
    {
      "cell_type": "code",
      "source": [
        "cable_merge_ctrl.iloc[:,:].values\n",
        "cable_merge_ctrl.info()\n",
        "cable_merge_ctrl = cable_merge_ctrl.fillna('NA')"
      ],
      "metadata": {
        "id": "tvtlrU1fUYdU"
      },
      "execution_count": null,
      "outputs": []
    },
    {
      "cell_type": "markdown",
      "source": [
        "#Creer une nouvelle colonne avec des controles ou non controles : cables"
      ],
      "metadata": {
        "id": "cUuU4ebZUlAM"
      }
    },
    {
      "cell_type": "code",
      "source": [
        "cable_merge_ctrl['check'] = np.where(cable_merge_ctrl['cb_conf']!= 'NA', \"CONTROLE\", \"NON CONTROLE\")"
      ],
      "metadata": {
        "id": "MqFeomuZUmUq"
      },
      "execution_count": null,
      "outputs": []
    },
    {
      "cell_type": "markdown",
      "source": [
        "#controles epb et tout les epb"
      ],
      "metadata": {
        "id": "Sha9853IU2Rb"
      }
    },
    {
      "cell_type": "code",
      "source": [
        "ebp_ctrl=ebp_ctrl.loc[:,('code', 'bp_conf')]\n",
        "ebp_merge_ctrl=ebp_all.merge(ebp_ctrl.rename({'code': 'bp_code'}, axis=1), left_on='bp_code', right_on='bp_code', how='left')"
      ],
      "metadata": {
        "id": "TPyyX4nBU3rE"
      },
      "execution_count": null,
      "outputs": []
    },
    {
      "cell_type": "markdown",
      "source": [
        "#Remplacer les vides par des NA : ebp"
      ],
      "metadata": {
        "id": "U4LJyIMLU4py"
      }
    },
    {
      "cell_type": "code",
      "source": [
        "ebp_merge_ctrl.iloc[:,:].values\n",
        "ebp_merge_ctrl.info()\n",
        "ebp_merge_ctrl = ebp_merge_ctrl.fillna('NA')"
      ],
      "metadata": {
        "id": "JXpmDO6KU5ju"
      },
      "execution_count": null,
      "outputs": []
    },
    {
      "cell_type": "markdown",
      "source": [
        "#Creer une nouvelle colonne avec des controles ou non controles : ebp"
      ],
      "metadata": {
        "id": "0kdUKKAeU6j5"
      }
    },
    {
      "cell_type": "code",
      "source": [
        "ebp_merge_ctrl['check'] = np.where(ebp_merge_ctrl['bp_conf']!= 'NA', \"CONTROLE\", \"NON CONTROLE\")"
      ],
      "metadata": {
        "id": "YzeJmkJBU7pO"
      },
      "execution_count": null,
      "outputs": []
    },
    {
      "cell_type": "markdown",
      "source": [
        "#controles ptech et tout les ptech"
      ],
      "metadata": {
        "id": "CD_HftW8U8v2"
      }
    },
    {
      "cell_type": "code",
      "source": [
        "ptech_ctrl=petch_ctrl.loc[:,('code', 'pt_conf')]\n",
        "ptech_merge_ctrl=petch_all.merge(ptech_ctrl.rename({'code': 'pt_code'}, axis=1), left_on='pt_code', right_on='pt_code', how='left')"
      ],
      "metadata": {
        "id": "fYVet570U-OU"
      },
      "execution_count": null,
      "outputs": []
    },
    {
      "cell_type": "markdown",
      "source": [
        "#Remplacer les vides par des NA : ptechs"
      ],
      "metadata": {
        "id": "BFWhmH5mU_Ky"
      }
    },
    {
      "cell_type": "code",
      "source": [
        "ptech_merge_ctrl.iloc[:,:].values\n",
        "ptech_merge_ctrl.info()\n",
        "ptech_merge_ctrl = ptech_merge_ctrl.fillna('NA')"
      ],
      "metadata": {
        "id": "X0qwh6iRVAPy"
      },
      "execution_count": null,
      "outputs": []
    },
    {
      "cell_type": "markdown",
      "source": [
        "#Creer une nouvelle colonne avec des controles ou non controles : ptechs"
      ],
      "metadata": {
        "id": "Hi8dLk5aVBOG"
      }
    },
    {
      "cell_type": "code",
      "source": [
        "ptech_merge_ctrl['check'] = np.where(ptech_merge_ctrl['pt_conf']!= 'NA', \"CONTROLE\", \"NON CONTROLE\")"
      ],
      "metadata": {
        "id": "r3HmYgbjVCjC"
      },
      "execution_count": null,
      "outputs": []
    }
  ]
}